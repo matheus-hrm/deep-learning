{
  "nbformat": 4,
  "nbformat_minor": 0,
  "metadata": {
    "colab": {
      "provenance": [],
      "authorship_tag": "ABX9TyN+IiXPBBfJ46Gf+4Jea5PV",
      "include_colab_link": true
    },
    "kernelspec": {
      "name": "python3",
      "display_name": "Python 3"
    },
    "language_info": {
      "name": "python"
    }
  },
  "cells": [
    {
      "cell_type": "markdown",
      "metadata": {
        "id": "view-in-github",
        "colab_type": "text"
      },
      "source": [
        "<a href=\"https://colab.research.google.com/github/matheus-hrm/deep-learning/blob/main/entropy.ipynb\" target=\"_parent\"><img src=\"https://colab.research.google.com/assets/colab-badge.svg\" alt=\"Open In Colab\"/></a>"
      ]
    },
    {
      "cell_type": "code",
      "execution_count": 2,
      "metadata": {
        "id": "M7hLenKJBWQy"
      },
      "outputs": [],
      "source": [
        "import numpy as np\n",
        "import matplotlib.pyplot as plt"
      ]
    },
    {
      "cell_type": "markdown",
      "source": [
        "# Entropy\n",
        "$H(X) = -\\sum_{i=1}^{n} p(x_i) \\log_b p(x_i)$"
      ],
      "metadata": {
        "id": "9QH1lndlBkoA"
      }
    },
    {
      "cell_type": "code",
      "source": [
        "x = [.25,.75]\n",
        "\n",
        "H = 0\n",
        "for p in x:\n",
        "  H -= p * np.log(p)\n",
        "\n",
        "print(\"Entropy:\" + str(H))"
      ],
      "metadata": {
        "colab": {
          "base_uri": "https://localhost:8080/"
        },
        "id": "hLopIr2wCAXa",
        "outputId": "ec9b97af-d9df-4c87-ef0d-0219aa3f3d09"
      },
      "execution_count": 3,
      "outputs": [
        {
          "output_type": "stream",
          "name": "stdout",
          "text": [
            "Entropy:0.5623351446188083\n"
          ]
        }
      ]
    },
    {
      "cell_type": "code",
      "source": [
        "# binary entropy\n",
        "p = .25\n",
        "H = -( p*np.log(p) + (1-p)*np.log(1-p))\n",
        "print('Entropy: ' + str(H) )"
      ],
      "metadata": {
        "colab": {
          "base_uri": "https://localhost:8080/"
        },
        "id": "nlVBek4jDdT4",
        "outputId": "3fbdfe21-0987-4605-93a2-383fdb2628a4"
      },
      "execution_count": 4,
      "outputs": [
        {
          "output_type": "stream",
          "name": "stdout",
          "text": [
            "Entropy: 0.5623351446188083\n"
          ]
        }
      ]
    },
    {
      "cell_type": "markdown",
      "source": [
        "# Cross-entropy"
      ],
      "metadata": {
        "id": "llBZD6YFDv05"
      }
    },
    {
      "cell_type": "code",
      "source": [
        "p = [  1,0  ] # probability of the event\n",
        "q = [.25,.75] # probability outputed by the model\n",
        "\n",
        "H = 0\n",
        "for i in range(len(p)):\n",
        "  H -= p[i] * np.log(q[i])\n",
        "\n",
        "print('Cross entropy: ' + str(H))"
      ],
      "metadata": {
        "colab": {
          "base_uri": "https://localhost:8080/"
        },
        "id": "v2lMRJMBD3NY",
        "outputId": "d652a437-dc6e-4858-eaad-cf360cc75525"
      },
      "execution_count": 8,
      "outputs": [
        {
          "output_type": "stream",
          "name": "stdout",
          "text": [
            "Cross entropy: 1.3862943611198906\n"
          ]
        }
      ]
    },
    {
      "cell_type": "code",
      "source": [
        "# binary cross entropy\n",
        "H = 0\n",
        "H -=( p[0] * np.log(q[0]) + p[1] * np.log(q[1]) )\n",
        "print('cross entropy: ' + str(H))"
      ],
      "metadata": {
        "colab": {
          "base_uri": "https://localhost:8080/"
        },
        "id": "Oca30w_fFSk5",
        "outputId": "90740163-b555-434c-e118-ab7d852428ed"
      },
      "execution_count": 12,
      "outputs": [
        {
          "output_type": "stream",
          "name": "stdout",
          "text": [
            "cross entropy: 1.3862943611198906\n"
          ]
        }
      ]
    },
    {
      "cell_type": "code",
      "source": [
        "# using pytorch\n",
        "import torch\n",
        "import torch.nn.functional as F\n",
        "\n",
        "q_tensor = torch.Tensor(q)\n",
        "p_tensor = torch.Tensor(p)\n",
        "\n",
        "F.binary_cross_entropy(q_tensor,p_tensor)"
      ],
      "metadata": {
        "colab": {
          "base_uri": "https://localhost:8080/"
        },
        "id": "Qpmz97Z-GrC7",
        "outputId": "e09f22c1-7f88-48ea-d62e-a0edae0589d3"
      },
      "execution_count": 14,
      "outputs": [
        {
          "output_type": "execute_result",
          "data": {
            "text/plain": [
              "tensor(1.3863)"
            ]
          },
          "metadata": {},
          "execution_count": 14
        }
      ]
    }
  ]
}