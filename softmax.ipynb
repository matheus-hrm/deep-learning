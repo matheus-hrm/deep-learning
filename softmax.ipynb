{
  "nbformat": 4,
  "nbformat_minor": 0,
  "metadata": {
    "colab": {
      "provenance": [],
      "authorship_tag": "ABX9TyO9MfFo/KxBSSlWzzT4+5rD",
      "include_colab_link": true
    },
    "kernelspec": {
      "name": "python3",
      "display_name": "Python 3"
    },
    "language_info": {
      "name": "python"
    }
  },
  "cells": [
    {
      "cell_type": "markdown",
      "metadata": {
        "id": "view-in-github",
        "colab_type": "text"
      },
      "source": [
        "<a href=\"https://colab.research.google.com/github/matheus-hrm/deep-learning/blob/main/softmax.ipynb\" target=\"_parent\"><img src=\"https://colab.research.google.com/assets/colab-badge.svg\" alt=\"Open In Colab\"/></a>"
      ]
    },
    {
      "cell_type": "code",
      "execution_count": 13,
      "metadata": {
        "id": "lvwvuXcpm9yr"
      },
      "outputs": [],
      "source": [
        "import numpy as np\n",
        "import matplotlib.pyplot as plt\n",
        "import torch\n",
        "import torch.nn as nn"
      ]
    },
    {
      "cell_type": "code",
      "source": [
        "z = [1,2,3]\n",
        "\n",
        "# softmax result\n",
        "\n",
        "num = np.exp(z)     # e^z\n",
        "den = np.sum(num)   # Σ e^z\n",
        "sigma = num/den     # σ\n",
        "\n",
        "# sigma = np.exp(z)/np.sum(np.exp(z))\n",
        "\n",
        "print(sigma)\n",
        "print(np.sum(sigma))"
      ],
      "metadata": {
        "colab": {
          "base_uri": "https://localhost:8080/"
        },
        "collapsed": true,
        "id": "710lUEHeohPw",
        "outputId": "3fa0356b-b20f-46e8-e6e0-2e540d0e00d3"
      },
      "execution_count": 19,
      "outputs": [
        {
          "output_type": "stream",
          "name": "stdout",
          "text": [
            "[0.09003057 0.24472847 0.66524096]\n",
            "1.0\n"
          ]
        }
      ]
    },
    {
      "cell_type": "code",
      "source": [
        "#z = np.random.randint(-5,high=15,size=25)\n",
        "print(z)\n",
        "\n",
        "# softmax\n",
        "sigma = np.exp(z)/np.sum(np.exp(z))\n",
        "\n",
        "plt.plot(z,sigma,'ko')\n",
        "plt.xlabel('Original number (z)')\n",
        "plt.ylabel('Softmaxified $\\sigma$')\n",
        "plt.title('$\\sum\\sigma$ = %g' %np.sum(sigma))\n",
        "plt.show()\n"
      ],
      "metadata": {
        "colab": {
          "base_uri": "https://localhost:8080/",
          "height": 512
        },
        "id": "SCWZrpcrrA2B",
        "outputId": "b6f9e316-38f9-4e44-e99c-6b80d22959c8"
      },
      "execution_count": 10,
      "outputs": [
        {
          "output_type": "stream",
          "name": "stdout",
          "text": [
            "[-5  8  0  0  5 -5 -3  6  9 11 12  8  0  3  2  7 10  1 -5 -2  2  6 11 -2\n",
            "  0]\n"
          ]
        },
        {
          "output_type": "display_data",
          "data": {
            "text/plain": [
              "<Figure size 640x480 with 1 Axes>"
            ],
            "image/png": "[encoded data removed]"
          },
          "metadata": {}
        }
      ]
    },
    {
      "cell_type": "markdown",
      "source": [
        "# Using **pytorch**"
      ],
      "metadata": {
        "id": "OaugmOzcug3W"
      }
    },
    {
      "cell_type": "code",
      "source": [
        "# instance of softmax activation class\n",
        "softfun = nn.Softmax(dim=0)\n",
        "\n",
        "# applying the function\n",
        "sigmaT = softfun( torch.Tensor(z) )\n",
        "\n",
        "print(sigmaT)\n"
      ],
      "metadata": {
        "colab": {
          "base_uri": "https://localhost:8080/"
        },
        "id": "HkDqCvrSunIO",
        "outputId": "fed341b9-ba30-4677-f5a5-9eeef9a4c0b1"
      },
      "execution_count": 20,
      "outputs": [
        {
          "output_type": "stream",
          "name": "stdout",
          "text": [
            "tensor([0.0900, 0.2447, 0.6652])\n"
          ]
        }
      ]
    }
  ]
}