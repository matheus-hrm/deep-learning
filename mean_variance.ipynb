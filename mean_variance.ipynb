{
  "nbformat": 4,
  "nbformat_minor": 0,
  "metadata": {
    "colab": {
      "provenance": [],
      "authorship_tag": "ABX9TyNKbCIjIrpDNukPUYOxRhbV",
      "include_colab_link": true
    },
    "kernelspec": {
      "name": "python3",
      "display_name": "Python 3"
    },
    "language_info": {
      "name": "python"
    }
  },
  "cells": [
    {
      "cell_type": "markdown",
      "metadata": {
        "id": "view-in-github",
        "colab_type": "text"
      },
      "source": [
        "<a href=\"https://colab.research.google.com/github/matheus-hrm/deep-learning/blob/main/mean_variance.ipynb\" target=\"_parent\"><img src=\"https://colab.research.google.com/assets/colab-badge.svg\" alt=\"Open In Colab\"/></a>"
      ]
    },
    {
      "cell_type": "code",
      "execution_count": 1,
      "metadata": {
        "id": "G4_7016lO5ic"
      },
      "outputs": [],
      "source": [
        "import numpy as np"
      ]
    },
    {
      "cell_type": "code",
      "source": [],
      "metadata": {
        "id": "HnZUcld5QoqP"
      },
      "execution_count": null,
      "outputs": []
    },
    {
      "cell_type": "markdown",
      "source": [
        "### Mean (μ)\n",
        "The mean is the average of a set of numbers.\n",
        "\n",
        "$$\n",
        "\\mu = \\frac{1}{N} \\sum_{i=1}^{N} x_i\n",
        "$$\n",
        "\n",
        "**Where**:  \n",
        "- \\( μ \\): Mean  \n",
        "- \\( N \\): Total number of observations  \n",
        "- ( 𝓧𝑖 ): Individual observation  \n",
        "\n",
        "---\n",
        "\n",
        "### Variance (σ²)\n",
        "Variance measures the spread of data points from the mean.\n",
        "\n",
        "$$\n",
        "\\sigma^2 = \\frac{1}{N} \\sum_{i=1}^{N} (x_i - \\mu)^2\n",
        "$$\n",
        "\n",
        "**Where**:  \n",
        "- \\( σ^2 \\): Variance  \n",
        "- \\( μ \\): Mean  \n",
        "- \\( N \\): Total number of observations  \n",
        "- \\( x_i \\): Individual observation  \n",
        "\n",
        "---\n",
        "\n",
        "### Standard Deviation (σ)\n",
        "The standard deviation is the square root of the variance.\n",
        "\n",
        "$$\n",
        "\\sigma = \\sqrt{\\sigma^2} = \\sqrt{\\frac{1}{N} \\sum_{i=1}^{N} (x_i - \\mu)^2}\n",
        "$$\n",
        "\n",
        "**Where**:  \n",
        "- \\( \\sigma \\): Standard deviation  \n",
        "- \\( \\sigma^2 \\): Variance  \n",
        "- \\( \\mu \\): Mean  \n",
        "- \\( N \\): Total number of observations  "
      ],
      "metadata": {
        "id": "UmMSvMDHQmWR"
      }
    },
    {
      "cell_type": "code",
      "source": [
        "# lis of numbers\n",
        "x = [4,2,5,7,9,1]\n",
        "n = len(x)\n",
        "\n",
        "mean = np.mean(x)\n",
        "# Can be written as\n",
        "# mean = np.sum(x)/n\n",
        "\n",
        "print(f\"{mean}\\n\")\n",
        "\n",
        "# variance\n",
        "\n",
        "var = np.var(x,ddof=1)\n",
        "# Can also be written as\n",
        "# var = ( 1/(n-1) ) * np.sum( (x-mean)**2 )\n",
        "\n",
        "print(f\"{var}\\n\")\n",
        "\n",
        "# standard deviation\n",
        "\n",
        "std = np.std(x)\n",
        "# std = np.sqrt(var)\n",
        "\n",
        "print(f\"{std}\\n\")"
      ],
      "metadata": {
        "colab": {
          "base_uri": "https://localhost:8080/"
        },
        "id": "zBVr4fLuO_l9",
        "outputId": "e8a383ee-efcf-43ba-f157-c421fece76bd"
      },
      "execution_count": 3,
      "outputs": [
        {
          "output_type": "stream",
          "name": "stdout",
          "text": [
            "4.666666666666667\n",
            "\n",
            "7.5555555555555545\n",
            "\n",
            "2.748737083745107\n",
            "\n"
          ]
        }
      ]
    }
  ]
}